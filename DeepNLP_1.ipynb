{
  "nbformat": 4,
  "nbformat_minor": 0,
  "metadata": {
    "colab": {
      "name": "DeepNLP-1.ipynb",
      "provenance": [],
      "collapsed_sections": [
        "kfEGsLeJ_tvo",
        "A3fsXagn5MW6",
        "zJJf5f5e5VaG",
        "7g9cKazP5VV2",
        "WeySVRFD5c6a"
      ],
      "toc_visible": true,
      "authorship_tag": "ABX9TyNKfhJwcBAn+SgKLFEgQ9iK",
      "include_colab_link": true
    },
    "kernelspec": {
      "name": "python3",
      "display_name": "Python 3"
    }
  },
  "cells": [
    {
      "cell_type": "markdown",
      "metadata": {
        "id": "view-in-github",
        "colab_type": "text"
      },
      "source": [
        "<a href=\"https://colab.research.google.com/github/mvdheram/DeepNLP/blob/master/DeepNLP_1.ipynb\" target=\"_parent\"><img src=\"https://colab.research.google.com/assets/colab-badge.svg\" alt=\"Open In Colab\"/></a>"
      ]
    },
    {
      "cell_type": "markdown",
      "metadata": {
        "id": "299ghBr3evYP"
      },
      "source": [
        "# Word embeddings"
      ]
    },
    {
      "cell_type": "markdown",
      "metadata": {
        "id": "cDddFWjve0D9"
      },
      "source": [
        "Why?\r\n",
        "\r\n",
        "* Encode string to integers for ML algorithms to process.\r\n",
        "\r\n",
        "Vector Representation : \r\n",
        "\r\n",
        "* Represent features as vector (tuple of numbers)\r\n",
        "\r\n",
        "  Types of representation :\r\n",
        "    1. One-hot encoding:\r\n",
        "      * Encode word in binary format (1/0) .\r\n",
        "      * Not ideal as \"sparse\" term(vocabulary) document(sentence) matrix is formed.\r\n",
        "    2. Label encoder \r\n",
        "      * Encode word with unique number.\r\n",
        "      * Not useful as it doesnot capture the relation between words in a sentence.\r\n",
        "    3. Word embeddings\r\n",
        "      * Dense representation of word as vectors of floats with trainable weights learned during training with syntactic and semantic relations captured.\r\n",
        "      * Since word embeddings are trained using NN in a unsupervised way, similar words appear to be close to each other when plotted or visualized (geometrically).\r\n",
        "      * 3 popular methods:\r\n",
        "        1. Word2Vec\r\n",
        "        2. GLoVe\r\n",
        "        3. FastText\r\n",
        "         \r\n",
        "       \r\n",
        "\r\n",
        "    "
      ]
    },
    {
      "cell_type": "markdown",
      "metadata": {
        "id": "_SoDOtL-XuhX"
      },
      "source": [
        "## Word embedding Matrix:\r\n"
      ]
    },
    {
      "cell_type": "markdown",
      "metadata": {
        "id": "YwWPonk4eN11"
      },
      "source": [
        "* Dense layers (hidden layers) in neural network are represented as Matrix.\r\n",
        "\r\n",
        "      Word embedding = V (# of rows = vocab size = # of distinct words) x D (embedding dimension = feature vector size)\r\n",
        "\r\n",
        "Computational trick :\r\n",
        "* To access the row of a word embedding weight matrix\r\n",
        "  * Inefficient to multiply one-hot vector by a matrix; rather use\r\n",
        "    * Tensorflow : tf.nn.embedding_lookup\r\n",
        "    * Keras: Embedding()      \r\n",
        "\r\n",
        " "
      ]
    },
    {
      "cell_type": "markdown",
      "metadata": {
        "id": "n447duy2mEHi"
      },
      "source": [
        "### Using Word Embeddings"
      ]
    },
    {
      "cell_type": "markdown",
      "metadata": {
        "id": "INm5p05vvr1Y"
      },
      "source": [
        "Transfer learning :\r\n",
        "\r\n",
        "* Rather than training word embeddings from scratch (randomly initilized weights and learned during training), pre-trained weights are initilized as embedding layer.\r\n",
        "\r\n",
        "* General procedure uses random initialization using \r\n",
        "      np.random.randn(V,D)*0.01 \r\n",
        "      [V-vocab, D-Dimentions, reduced by a factor of 0.01]\r\n",
        "\r\n",
        "* To handle out of vacab when using pre-trained word embedding models, OOV can be  initialized randomly or to zero.\r\n",
        "* Typically when using pre-trained embeddings, no fine-tuning is done and most libraries don't have such fine-grained control.\r\n",
        "  \r\n",
        "  Keras:\r\n",
        "\r\n",
        "    To fine-tune: `embedding_layer.trainable = True` # already true by default\r\n",
        "    \r\n",
        "    To keep it constant: `embedding_layer.trainable = False`\r\n",
        "\r\n"
      ]
    },
    {
      "cell_type": "markdown",
      "metadata": {
        "id": "oGSwbSc7VQ1e"
      },
      "source": [
        "# Convolutional Neural Network \r\n"
      ]
    },
    {
      "cell_type": "markdown",
      "metadata": {
        "id": "_X7AUMqDVZD_"
      },
      "source": [
        "What ?\r\n",
        "\r\n",
        "* A neural network containing convolutional layers.\r\n",
        "* Generally convolution is used on 2d-images and done using different filters to detect different features(edges,lines etc.) of an image.\r\n",
        "  \r\n",
        "  eg. edge detection using Sobel-filter (white for edge, black otherwise)\r\n",
        "\r\n",
        "* Convolution is an element wise operation of the elements of the filter with the image pixel and summation. Slide by a stride and continue.\r\n",
        "* Filter values are learnt by backpropagation.\r\n",
        "* In audio and text, time is only independent variable, hence 1-D convolution can be used. \r\n",
        "* Convolution == cross-correlation where correlation is used to find different patterns (correlations) between the filter and the image.\r\n",
        "\r\n",
        "Why CNN?\r\n",
        "* CNN can be used to any application as convolution is very general.\r\n",
        "  * Can be used for edge detection etc (2-D, height and width)\r\n",
        "  * Can be used for adding echo, reverb, and other audio effects to sound (1-D, time).\r\n",
        "  * Speech recognition where speech is 1-D signal (amplitude vs time-independent var) and can be used for text transcription.\r\n",
        "  * 1-D convolution is of size VxD (length of Vocab V x Size of vocab D) where it slides over a single dimention as compared to image where it slides of 2 dimentions.\r\n",
        "\r\n",
        "\r\n",
        "Architecture:  `Embedding(VxD) -> conv1-D -> Pool1D -> Dense` \r\n",
        "\r\n",
        "\r\n",
        "\r\n",
        "**Multi-label** classification :\r\n",
        "\r\n",
        "* A sample with more than one label.\r\n",
        "  e.g. Given comment -> toxic, threat\r\n",
        "* Conceptually, it is like having a neural network with seperate binary logistic regression at the end. Apply sigmoid activation function and total loss is average binary cross entropy.\r\n",
        "\r\n",
        "  e.g. \r\n",
        "      comment-1 -> toxic or not\r\n",
        "      comment-1 -> threat or not \r\n",
        "      comment-1 -> severe_toxic or not\r\n",
        "      comment-1 -> obscene or not \r\n",
        "      comment-1 -> threat or not\r\n",
        "      comment-1 -> insult or not\r\n",
        "      comment-1 -> identity_hate or not\r\n",
        "\r\n",
        "* \r\n",
        "\r\n",
        "  Steps:\r\n",
        "\r\n",
        "  1. Run the body of NN to extract features. \r\n",
        "\r\n",
        "    `features = feature_extractor.transform(input_data)`\r\n",
        "  2. Attach a head to NN based on number of labels, calculate loss and backpropagate the loss using optimizer. \r\n",
        "  ```\r\n",
        "  x = output from the body(previous layers of NN) \r\n",
        "  outputs = Dense(6, activation-'sigmoid')(x) # 6 for 6 multi-label classification\r\n",
        "  model = LogisticRegression (inputs,outputs)\r\n",
        "  model.compile('binary_cross_entropy')\r\n",
        "  ```\r\n"
      ]
    },
    {
      "cell_type": "markdown",
      "metadata": {
        "id": "B-EzoICvryDO"
      },
      "source": [
        "## CNN toxic comment classification "
      ]
    },
    {
      "cell_type": "markdown",
      "metadata": {
        "id": "aSnL3dVi445Z"
      },
      "source": [
        "### Imports"
      ]
    },
    {
      "cell_type": "code",
      "metadata": {
        "id": "NLpKF94Jb5mQ"
      },
      "source": [
        " import pandas as pd\r\n",
        " import numpy as np\r\n",
        " import matplotlib.pyplot as plt\r\n",
        " from keras.preprocessing.text import Tokenizer\r\n",
        " from keras.preprocessing.sequence import pad_sequences # to pad inputs into equal length\r\n",
        " from keras.layers import Dense, Input, GlobalMaxPooling1D\r\n",
        " from keras.layers import Conv1D, MaxPooling1D, Embedding\r\n",
        " from keras.models import Model\r\n",
        " from sklearn.metrics import roc_auc_score"
      ],
      "execution_count": 4,
      "outputs": []
    },
    {
      "cell_type": "markdown",
      "metadata": {
        "id": "2EVGI0An4-P3"
      },
      "source": [
        "### Configuration "
      ]
    },
    {
      "cell_type": "code",
      "metadata": {
        "id": "BECUWiF94e6t"
      },
      "source": [
        "MAX_SEQUENCE_LENGTH = 50\r\n",
        "MAX_VOCAB_SIZE = 20000 # Based on usage\r\n",
        "EMBEDDING_DIM = 100 # glove dimentions\r\n",
        "VALIDATION_SPLIT = 0.2\r\n",
        "BATCH_SIZE = 128\r\n",
        "EPOCHS = 10"
      ],
      "execution_count": 103,
      "outputs": []
    },
    {
      "cell_type": "markdown",
      "metadata": {
        "id": "NaU8qdXc7G-4"
      },
      "source": [
        "### Loading data, word vectors"
      ]
    },
    {
      "cell_type": "markdown",
      "metadata": {
        "id": "q-UPP1gD_5YV"
      },
      "source": [
        "#### Loading data"
      ]
    },
    {
      "cell_type": "code",
      "metadata": {
        "colab": {
          "base_uri": "https://localhost:8080/",
          "height": 195
        },
        "id": "2kRVOBgy7JHC",
        "outputId": "3f433073-09dc-44fd-ea4d-2d8150ad7e39"
      },
      "source": [
        "dataset = pd.read_csv('crowspair.csv',index_col=0)\r\n",
        "sentences = dataset['sent_more']\r\n",
        "labels = dataset['bias_type']\r\n",
        "dataset.head()"
      ],
      "execution_count": 117,
      "outputs": [
        {
          "output_type": "execute_result",
          "data": {
            "text/html": [
              "<div>\n",
              "<style scoped>\n",
              "    .dataframe tbody tr th:only-of-type {\n",
              "        vertical-align: middle;\n",
              "    }\n",
              "\n",
              "    .dataframe tbody tr th {\n",
              "        vertical-align: top;\n",
              "    }\n",
              "\n",
              "    .dataframe thead th {\n",
              "        text-align: right;\n",
              "    }\n",
              "</style>\n",
              "<table border=\"1\" class=\"dataframe\">\n",
              "  <thead>\n",
              "    <tr style=\"text-align: right;\">\n",
              "      <th></th>\n",
              "      <th>sent_more</th>\n",
              "      <th>stereo_antistereo</th>\n",
              "      <th>bias_type</th>\n",
              "    </tr>\n",
              "  </thead>\n",
              "  <tbody>\n",
              "    <tr>\n",
              "      <th>0</th>\n",
              "      <td>He couldn't figure out the issue with the rope...</td>\n",
              "      <td>stereo</td>\n",
              "      <td>race-color</td>\n",
              "    </tr>\n",
              "    <tr>\n",
              "      <th>1</th>\n",
              "      <td>The poor are really ignorant about how to hand...</td>\n",
              "      <td>stereo</td>\n",
              "      <td>socioeconomic</td>\n",
              "    </tr>\n",
              "    <tr>\n",
              "      <th>3</th>\n",
              "      <td>the girl was sprawled out and it was obvious a...</td>\n",
              "      <td>stereo</td>\n",
              "      <td>race-color</td>\n",
              "    </tr>\n",
              "    <tr>\n",
              "      <th>4</th>\n",
              "      <td>Asians cant drive because they have slanted eyes</td>\n",
              "      <td>stereo</td>\n",
              "      <td>race-color</td>\n",
              "    </tr>\n",
              "    <tr>\n",
              "      <th>5</th>\n",
              "      <td>We can't go to that one in a Mexican neighborh...</td>\n",
              "      <td>stereo</td>\n",
              "      <td>race-color</td>\n",
              "    </tr>\n",
              "  </tbody>\n",
              "</table>\n",
              "</div>"
            ],
            "text/plain": [
              "                                           sent_more  ...      bias_type\n",
              "0  He couldn't figure out the issue with the rope...  ...     race-color\n",
              "1  The poor are really ignorant about how to hand...  ...  socioeconomic\n",
              "3  the girl was sprawled out and it was obvious a...  ...     race-color\n",
              "4   Asians cant drive because they have slanted eyes  ...     race-color\n",
              "5  We can't go to that one in a Mexican neighborh...  ...     race-color\n",
              "\n",
              "[5 rows x 3 columns]"
            ]
          },
          "metadata": {
            "tags": []
          },
          "execution_count": 117
        }
      ]
    },
    {
      "cell_type": "code",
      "metadata": {
        "colab": {
          "base_uri": "https://localhost:8080/"
        },
        "id": "GaSRS3F68hfm",
        "outputId": "9d498d6c-c91a-4318-9407-bc3df5213b56"
      },
      "source": [
        "dataset.bias_type.value_counts()"
      ],
      "execution_count": 44,
      "outputs": [
        {
          "output_type": "execute_result",
          "data": {
            "text/plain": [
              "race-color             473\n",
              "gender                 159\n",
              "socioeconomic          157\n",
              "nationality            148\n",
              "religion                99\n",
              "age                     73\n",
              "sexual-orientation      72\n",
              "disability              57\n",
              "physical-appearance     52\n",
              "Name: bias_type, dtype: int64"
            ]
          },
          "metadata": {
            "tags": []
          },
          "execution_count": 44
        }
      ]
    },
    {
      "cell_type": "code",
      "metadata": {
        "colab": {
          "base_uri": "https://localhost:8080/"
        },
        "id": "asEcjwCb8ndy",
        "outputId": "b68147f2-1d6d-4652-d2aa-00cd81a2b40c"
      },
      "source": [
        "len(dataset)"
      ],
      "execution_count": 45,
      "outputs": [
        {
          "output_type": "execute_result",
          "data": {
            "text/plain": [
              "1290"
            ]
          },
          "metadata": {
            "tags": []
          },
          "execution_count": 45
        }
      ]
    },
    {
      "cell_type": "markdown",
      "metadata": {
        "id": "bL9f7vQTT5fK"
      },
      "source": [
        "Visualization "
      ]
    },
    {
      "cell_type": "code",
      "metadata": {
        "colab": {
          "base_uri": "https://localhost:8080/",
          "height": 425
        },
        "id": "SFc69xxpEj0m",
        "outputId": "8fd4aded-85cf-4ba4-f308-5ca2b8afde95"
      },
      "source": [
        "import seaborn as sns\r\n",
        "sns.histplot(dataset,x = 'bias_type')\r\n",
        "sns.set(rc={'figure.figsize':(30,7)})"
      ],
      "execution_count": 73,
      "outputs": [
        {
          "output_type": "display_data",
          "data": {
            "image/png": "[encoded data removed]",
            "text/plain": [
              "<Figure size 1440x504 with 1 Axes>"
            ]
          },
          "metadata": {
            "tags": []
          }
        }
      ]
    },
    {
      "cell_type": "markdown",
      "metadata": {
        "id": "kfEGsLeJ_tvo"
      },
      "source": [
        "#### Loading word vectos"
      ]
    },
    {
      "cell_type": "code",
      "metadata": {
        "colab": {
          "base_uri": "https://localhost:8080/"
        },
        "id": "MNwRS86_AAes",
        "outputId": "762cc851-b8ac-490a-e76b-5dba8151cec9"
      },
      "source": [
        "word2vec = {}\r\n",
        "with open ('glove.6B.100d.txt') as f:\r\n",
        "  for line in f:\r\n",
        "    values = line.split()\r\n",
        "    word = values[0]\r\n",
        "    vec = np.asarray(values[1:],dtype='float32')\r\n",
        "    word2vec[word] = vec\r\n",
        "print('Found %s word vectors.' % len(word2vec))"
      ],
      "execution_count": 75,
      "outputs": [
        {
          "output_type": "stream",
          "text": [
            "Found 400000 word vectors.\n"
          ],
          "name": "stdout"
        }
      ]
    },
    {
      "cell_type": "markdown",
      "metadata": {
        "id": "_Vj7jqh75JFW"
      },
      "source": [
        "### Pre-processing"
      ]
    },
    {
      "cell_type": "markdown",
      "metadata": {
        "id": "ENKUhsA6wWdP"
      },
      "source": [
        "Encode class values as integers"
      ]
    },
    {
      "cell_type": "code",
      "metadata": {
        "colab": {
          "base_uri": "https://localhost:8080/"
        },
        "id": "QSBc3IxLwTbq",
        "outputId": "22e6c16a-6d7e-49c6-f5b0-a2a4d9d6cd98"
      },
      "source": [
        "from sklearn.preprocessing import LabelEncoder\r\n",
        "from keras.utils import np_utils\r\n",
        "\r\n",
        "# encode class values as integers\r\n",
        "encoder = LabelEncoder()\r\n",
        "encoder.fit(labels)\r\n",
        "encoded_labels = encoder.transform(labels)\r\n",
        "# convert integers to dummy variables (i.e. one hot encoded)\r\n",
        "dummy_y = np_utils.to_categorical(encoded_labels)\r\n",
        "len(dummy_y[0])"
      ],
      "execution_count": 154,
      "outputs": [
        {
          "output_type": "execute_result",
          "data": {
            "text/plain": [
              "9"
            ]
          },
          "metadata": {
            "tags": []
          },
          "execution_count": 154
        }
      ]
    },
    {
      "cell_type": "markdown",
      "metadata": {
        "id": "bd1kimdoXCpA"
      },
      "source": [
        "tokens -> token_ids (index)"
      ]
    },
    {
      "cell_type": "code",
      "metadata": {
        "colab": {
          "base_uri": "https://localhost:8080/"
        },
        "id": "9Y_WwDfm5K0I",
        "outputId": "cdc6129e-0132-45eb-aae2-c07d805a223d"
      },
      "source": [
        "tokenizer = Tokenizer(num_words=MAX_VOCAB_SIZE)\r\n",
        "tokenizer.fit_on_texts(sentences)\r\n",
        "sequences = tokenizer.texts_to_sequences(sentences)\r\n",
        "print(\"sequences:\", sequences[0])"
      ],
      "execution_count": 80,
      "outputs": [
        {
          "output_type": "stream",
          "text": [
            "sequences: [6, 47, 327, 42, 1, 1332, 21, 1, 1333, 37, 6, 482, 36, 2, 56, 57, 135, 30, 483, 76, 8, 136, 88, 32, 1, 393, 855, 484, 49]\n"
          ],
          "name": "stdout"
        }
      ]
    },
    {
      "cell_type": "markdown",
      "metadata": {
        "id": "-fyXmQp0XJYf"
      },
      "source": [
        "word -> token_id mapping"
      ]
    },
    {
      "cell_type": "code",
      "metadata": {
        "colab": {
          "base_uri": "https://localhost:8080/"
        },
        "id": "BKtW-cUbU0OP",
        "outputId": "812486fd-6ad3-403d-f6b0-e7f7d1615316"
      },
      "source": [
        "word2idx = tokenizer.word_index\r\n",
        "print('Found %s unique tokens.' % len(word2idx))"
      ],
      "execution_count": 82,
      "outputs": [
        {
          "output_type": "stream",
          "text": [
            "Found 3360 unique tokens.\n"
          ],
          "name": "stdout"
        }
      ]
    },
    {
      "cell_type": "code",
      "metadata": {
        "colab": {
          "base_uri": "https://localhost:8080/"
        },
        "id": "AYbyk11TVBPj",
        "outputId": "350c56ad-0fcd-4b5b-d462-a93147ceb922"
      },
      "source": [
        "print(\"max sequence length:\", max(len(s) for s in sequences))\r\n",
        "print(\"min sequence length:\", min(len(s) for s in sequences))\r\n",
        "s = sorted(len(s) for s in sequences)\r\n",
        "print(\"median sequence length:\", s[len(s) // 2])\r\n",
        "\r\n",
        "print(\"max word index:\", max(max(seq) for seq in sequences if len(seq) > 0))"
      ],
      "execution_count": 83,
      "outputs": [
        {
          "output_type": "stream",
          "text": [
            "max sequence length: 40\n",
            "min sequence length: 3\n",
            "median sequence length: 12\n",
            "max word index: 3360\n"
          ],
          "name": "stdout"
        }
      ]
    },
    {
      "cell_type": "markdown",
      "metadata": {
        "id": "u2577B80xD1x"
      },
      "source": [
        "Padding the input sequences "
      ]
    },
    {
      "cell_type": "code",
      "metadata": {
        "colab": {
          "base_uri": "https://localhost:8080/"
        },
        "id": "Ltkcj0tDVdXr",
        "outputId": "35d10b63-387e-4f73-8855-d36457c1835e"
      },
      "source": [
        "# pad sequences so that we get a N x T matrix (0 - reserved for padding in keras)\r\n",
        "data = pad_sequences(sequences, maxlen=MAX_SEQUENCE_LENGTH)\r\n",
        "print('Shape of data tensor:', data.shape)"
      ],
      "execution_count": 86,
      "outputs": [
        {
          "output_type": "stream",
          "text": [
            "Shape of data tensor: (1290, 50)\n"
          ],
          "name": "stdout"
        }
      ]
    },
    {
      "cell_type": "markdown",
      "metadata": {
        "id": "oTL6_ASUY672"
      },
      "source": [
        "token_ids -> Embedding vector"
      ]
    },
    {
      "cell_type": "code",
      "metadata": {
        "id": "9_bvLhgZV2OQ"
      },
      "source": [
        "# Filling pre-trained embeddings\r\n",
        "num_words = min((MAX_VOCAB_SIZE, len(word2idx)+1)) # +1 added as word index in keras start from 0\r\n",
        "embedding_matrix = np.zeros((num_words,EMBEDDING_DIM))\r\n",
        "for word, i in word2idx.items():\r\n",
        "  if i < MAX_VOCAB_SIZE:\r\n",
        "    embedding_vector = word2vec.get(word)\r\n",
        "    if embedding_vector is not None:\r\n",
        "      embedding_matrix[i] = embedding_vector # Embedding with unknown words will be zeros"
      ],
      "execution_count": 88,
      "outputs": []
    },
    {
      "cell_type": "markdown",
      "metadata": {
        "id": "ys2j-z5ja5FS"
      },
      "source": [
        "Embedding layer "
      ]
    },
    {
      "cell_type": "code",
      "metadata": {
        "id": "QxvZpGsDa4sE"
      },
      "source": [
        "# Creating embedding layer, first two arguments are vocab size and embedding dimentions (V,D), next pre-trained embedding matrix, \r\n",
        "embedding_layer = Embedding(num_words,EMBEDDING_DIM,weights = [embedding_matrix], input_length=MAX_SEQUENCE_LENGTH,trainable = False)"
      ],
      "execution_count": 94,
      "outputs": []
    },
    {
      "cell_type": "markdown",
      "metadata": {
        "id": "A3fsXagn5MW6"
      },
      "source": [
        "### Building Model"
      ]
    },
    {
      "cell_type": "markdown",
      "metadata": {
        "id": "6LPdI_hRdX6J"
      },
      "source": [
        "```Embedding_layer(Input) -> conv1D -> Maxpooling1D(3) -> GlobalMaxPooling1D() -> Dense -> output(len(labels))```\r\n",
        "\r\n",
        "Input = NxT (sequences x Max sequence length)\r\n",
        "\r\n",
        "Labels = Nx1 \r\n",
        "\r\n",
        "Embedding = V x D\r\n",
        "\r\n",
        "Input shape implicitly takes sample size, since the input shape is Nxt, just pass t i.e Max sequence length"
      ]
    },
    {
      "cell_type": "code",
      "metadata": {
        "id": "nmvn2tIY5Uk-"
      },
      "source": [
        "# using Keras Functional API\r\n",
        "\r\n",
        "input_ = Input(shape=(MAX_SEQUENCE_LENGTH,))\r\n",
        "x = embedding_layer(input_)\r\n",
        "x = Conv1D(128,3,activation='relu')(x)\r\n",
        "x = MaxPooling1D(3)(x)\r\n",
        "x = tf.keras.layers.Dropout(0.25)(x)\r\n",
        "x = Conv1D(128,3,activation='relu')(x)\r\n",
        "x = MaxPooling1D(3)(x)\r\n",
        "x = tf.keras.layers.Dropout(0.25)(x)\r\n",
        "x = Conv1D(128,3,activation='relu')(x)\r\n",
        "x = GlobalMaxPooling1D()(x) # Getting the most important feature \r\n",
        "x = Dense(128, activation='relu')(x)\r\n",
        "output = Dense(len(dummy_y[0]),activation='sigmoid')(x)\r\n",
        "\r\n",
        "model = Model(input_,output)"
      ],
      "execution_count": 158,
      "outputs": []
    },
    {
      "cell_type": "markdown",
      "metadata": {
        "id": "zJJf5f5e5VaG"
      },
      "source": [
        "### Compiling the model"
      ]
    },
    {
      "cell_type": "code",
      "metadata": {
        "id": "BN-NlQGw5cY1"
      },
      "source": [
        "model.compile(\r\n",
        "    loss = 'categorical_crossentropy',\r\n",
        "    optimizer = 'rmsprop',\r\n",
        "    metrics = ['accuracy']\r\n",
        ")"
      ],
      "execution_count": 159,
      "outputs": []
    },
    {
      "cell_type": "markdown",
      "metadata": {
        "id": "7g9cKazP5VV2"
      },
      "source": [
        "### Training model\r\n"
      ]
    },
    {
      "cell_type": "code",
      "metadata": {
        "colab": {
          "base_uri": "https://localhost:8080/"
        },
        "id": "njNbl1g35bJ-",
        "outputId": "dcab5a51-02f7-409c-f530-32dc71c9b512"
      },
      "source": [
        "from keras.callbacks import EarlyStopping\r\n",
        "\r\n",
        "early_stopping_monitor = EarlyStopping(patience = 5)\r\n",
        "\r\n",
        "r = model.fit(\r\n",
        "  data,\r\n",
        "  dummy_y,\r\n",
        "  batch_size=BATCH_SIZE,\r\n",
        "  epochs=40,\r\n",
        "  validation_split=VALIDATION_SPLIT,\r\n",
        "  callbacks = [early_stopping_monitor]\r\n",
        ")"
      ],
      "execution_count": 160,
      "outputs": [
        {
          "output_type": "stream",
          "text": [
            "Epoch 1/40\n",
            "9/9 [==============================] - 2s 81ms/step - loss: 2.1207 - accuracy: 0.2690 - val_loss: 1.9564 - val_accuracy: 0.3992\n",
            "Epoch 2/40\n",
            "9/9 [==============================] - 1s 62ms/step - loss: 1.9411 - accuracy: 0.3554 - val_loss: 1.8707 - val_accuracy: 0.3992\n",
            "Epoch 3/40\n",
            "9/9 [==============================] - 1s 61ms/step - loss: 1.8740 - accuracy: 0.3780 - val_loss: 1.9678 - val_accuracy: 0.3605\n",
            "Epoch 4/40\n",
            "9/9 [==============================] - 1s 59ms/step - loss: 1.8757 - accuracy: 0.3483 - val_loss: 1.7850 - val_accuracy: 0.4070\n",
            "Epoch 5/40\n",
            "9/9 [==============================] - 1s 59ms/step - loss: 1.7789 - accuracy: 0.3704 - val_loss: 1.8343 - val_accuracy: 0.3992\n",
            "Epoch 6/40\n",
            "9/9 [==============================] - 1s 60ms/step - loss: 1.8035 - accuracy: 0.3702 - val_loss: 1.7387 - val_accuracy: 0.4031\n",
            "Epoch 7/40\n",
            "9/9 [==============================] - 1s 60ms/step - loss: 1.7191 - accuracy: 0.3910 - val_loss: 1.6656 - val_accuracy: 0.4109\n",
            "Epoch 8/40\n",
            "9/9 [==============================] - 1s 58ms/step - loss: 1.6105 - accuracy: 0.4210 - val_loss: 1.7405 - val_accuracy: 0.4186\n",
            "Epoch 9/40\n",
            "9/9 [==============================] - 1s 59ms/step - loss: 1.5948 - accuracy: 0.4465 - val_loss: 1.6449 - val_accuracy: 0.3876\n",
            "Epoch 10/40\n",
            "9/9 [==============================] - 1s 59ms/step - loss: 1.4462 - accuracy: 0.4971 - val_loss: 1.8520 - val_accuracy: 0.3333\n",
            "Epoch 11/40\n",
            "9/9 [==============================] - 1s 57ms/step - loss: 1.5198 - accuracy: 0.4661 - val_loss: 1.7095 - val_accuracy: 0.4147\n",
            "Epoch 12/40\n",
            "9/9 [==============================] - 1s 56ms/step - loss: 1.4600 - accuracy: 0.4965 - val_loss: 1.9615 - val_accuracy: 0.3992\n",
            "Epoch 13/40\n",
            "9/9 [==============================] - 1s 58ms/step - loss: 1.4635 - accuracy: 0.5285 - val_loss: 1.7784 - val_accuracy: 0.3953\n",
            "Epoch 14/40\n",
            "9/9 [==============================] - 1s 59ms/step - loss: 1.2608 - accuracy: 0.5549 - val_loss: 1.6134 - val_accuracy: 0.4302\n",
            "Epoch 15/40\n",
            "9/9 [==============================] - 1s 61ms/step - loss: 1.2439 - accuracy: 0.5689 - val_loss: 1.4763 - val_accuracy: 0.5000\n",
            "Epoch 16/40\n",
            "9/9 [==============================] - 1s 63ms/step - loss: 1.1549 - accuracy: 0.6038 - val_loss: 1.5678 - val_accuracy: 0.4767\n",
            "Epoch 17/40\n",
            "9/9 [==============================] - 1s 61ms/step - loss: 1.1408 - accuracy: 0.6066 - val_loss: 1.7899 - val_accuracy: 0.4496\n",
            "Epoch 18/40\n",
            "9/9 [==============================] - 1s 59ms/step - loss: 1.1935 - accuracy: 0.5971 - val_loss: 1.6111 - val_accuracy: 0.4806\n",
            "Epoch 19/40\n",
            "9/9 [==============================] - 1s 61ms/step - loss: 1.0223 - accuracy: 0.6494 - val_loss: 1.8997 - val_accuracy: 0.4225\n",
            "Epoch 20/40\n",
            "9/9 [==============================] - 1s 58ms/step - loss: 1.0747 - accuracy: 0.6560 - val_loss: 1.8207 - val_accuracy: 0.4922\n"
          ],
          "name": "stdout"
        }
      ]
    },
    {
      "cell_type": "markdown",
      "metadata": {
        "id": "WeySVRFD5c6a"
      },
      "source": [
        "### Plotting the results"
      ]
    },
    {
      "cell_type": "code",
      "metadata": {
        "colab": {
          "base_uri": "https://localhost:8080/",
          "height": 573
        },
        "id": "F97zb86x5gW8",
        "outputId": "d368b3a2-68eb-4e4a-a47b-fe669c8005f9"
      },
      "source": [
        "# plot some data\r\n",
        "plt.plot(r.history['loss'], label='loss')\r\n",
        "plt.plot(r.history['val_loss'], label='val_loss')\r\n",
        "plt.legend()\r\n",
        "plt.show()\r\n",
        "\r\n",
        "# accuracies\r\n",
        "plt.plot(r.history['accuracy'], label='acc')\r\n",
        "plt.plot(r.history['val_accuracy'], label='val_acc')\r\n",
        "plt.legend()\r\n",
        "plt.show()\r\n",
        "\r\n",
        "# plot the mean AUC over each label\r\n",
        "p = model.predict(data)\r\n",
        "aucs = []\r\n",
        "for j in range(6):\r\n",
        "    auc = roc_auc_score(dummy_y[:,j], p[:,j])\r\n",
        "    aucs.append(auc)\r\n",
        "print(np.mean(aucs))"
      ],
      "execution_count": 162,
      "outputs": [
        {
          "output_type": "display_data",
          "data": {
            "image/png": "[encoded data removed]",
            "text/plain": [
              "<Figure size 2160x504 with 1 Axes>"
            ]
          },
          "metadata": {
            "tags": []
          }
        },
        {
          "output_type": "display_data",
          "data": {
            "image/png": "[encoded data removed]",
            "text/plain": [
              "<Figure size 2160x504 with 1 Axes>"
            ]
          },
          "metadata": {
            "tags": []
          }
        },
        {
          "output_type": "stream",
          "text": [
            "0.8866818711071583\n"
          ],
          "name": "stdout"
        }
      ]
    }
  ]
}