{
  "nbformat": 4,
  "nbformat_minor": 0,
  "metadata": {
    "colab": {
      "name": "DeepNLP-2.ipynb",
      "provenance": [],
      "collapsed_sections": [
        "yYTgDMShmH5G"
      ],
      "toc_visible": true,
      "authorship_tag": "ABX9TyPsYb4JZiVz8HTPJTSsK2gc",
      "include_colab_link": true
    },
    "kernelspec": {
      "name": "python3",
      "display_name": "Python 3"
    }
  },
  "cells": [
    {
      "cell_type": "markdown",
      "metadata": {
        "id": "view-in-github",
        "colab_type": "text"
      },
      "source": [
        "<a href=\"https://colab.research.google.com/github/mvdheram/DeepNLP/blob/master/DeepNLP_2.ipynb\" target=\"_parent\"><img src=\"https://colab.research.google.com/assets/colab-badge.svg\" alt=\"Open In Colab\"/></a>"
      ]
    },
    {
      "cell_type": "markdown",
      "metadata": {
        "id": "3w6b3w7KAK2d"
      },
      "source": [
        "# Recurrent Neural network \n",
        "\n",
        "Source : http://web.stanford.edu/class/cs224n/readings/cs224n-2019-notes05-LM_RNN.pdf"
      ]
    },
    {
      "cell_type": "markdown",
      "metadata": {
        "id": "M8znwSIxvli0"
      },
      "source": [
        "**What is RNN**?\n",
        "\n",
        "* CNN is pretty basic where the output is dependent on the input provided.\n",
        "* When dealing with text sequences (time related dependence), the information from just the previous output might not be sufficient. Text sequences need information from past inputs.\n",
        "\n",
        "* Language modelling task is a task similar where the problem is to predict the next word in a sequence based on previous sequence of words.\n",
        "* In other words, language model is a task of assigning probabilty distribution to sequence of words.\n",
        "  1. N-gram language model : Based on n-grams (n consecutive words occuring side by side) the probability of n-grams are calculated from the corpus. The probabilities are calculated based on the counting  and on markov assumuption that prob(n) depends on prob(n-1)). \n",
        "    * Problems:\n",
        "      * **Sparsity problem** where the n-gram probability might be zero in some cases of sequences.\n",
        "      * **Storing** n-gram probabilities.\n",
        "  2. Window-based Neural Language Model : Neural Probabilistic Language Model. The model learns a distributed representation of each word along the window *(word embeddings - concatenated words/one-hot vectors)* and the probability function for *word sequences*. \n",
        "    * Problems:\n",
        "      * **Fixed window** problem\n",
        "      * Different weights used for different words which leads to **No symmetry** in how the inputs are processed.\n",
        "* To handle these problems, RNN architecture has been used where the Recurrent Neural Networks (RNN) are capable of\n",
        "conditioning the model on **all** previous words in the corpus.\n",
        "* RNN architecture consists of recurrent unit (hidden layer / Memory unit) at each time step which holds a number of neurons and tells \"which memories\" to pay attention to when making new memory.\n",
        "* This hidden layer performs a linear matrix operation followed by a non-linear operation (e.g. tanh())\n",
        "* At each time-step, there are two inputs to hidden layer: \n",
        "\n",
        "    1.The output of the previous layer h(t-1)\n",
        "\n",
        "    2.The input at that timestep x(t). \n",
        "    \n",
        "    Since, time is the independent variable, the data variable need to be indexed by time. \n",
        "\n",
        "    ```x(t) - input; \n",
        "    h(t) - hidden unit dependent on input x(t) and h(t-1) output of the non-linear function at the previous time-step(t-1) ```\n",
        "* The **output of previous hidden layer h(t-1)** is multiplied by a weight matrix **W(hh)**; while the **input x(t)** is multiplied by **w(hx)** to produce output features h(t).\n",
        "* The **h(t)** produced is **multiplied** with weight matrix **W(s)** and run through softmax over vocab to obtain a prediction **output y(t)** of the next word. \n",
        "\n",
        "RNN Pipeline:\n",
        "\n",
        "      Big picture : x(t) + h(t-1) -> h(t) -> y(t)\n",
        "\n",
        "      Recurrent unit h(t) details : \n",
        "      h(t) = sigmoid_ActFunc [W(hh)*h(t-1) + W(hx)*x(t)]\n",
        "\n",
        "      Output Probability distribution over vocab :\n",
        "      y(t) = softmax[W(s)*h(t)]\n",
        "\n",
        "      Shape(W(input)) = shape(x(t)) * shape(h(t))\n",
        "      Shape(W(hidden)) = shape(h(t)) * shape(h(t))\n",
        "      Shape(W(output)) = shape(h(t)) * shape(y(t))\n",
        "\n",
        "* **Same weights W(hh) and W(hx) are applied repeatedly at each timestep.** Hence,\n",
        "  1. The number of parameters\n",
        "the model has to learn is less.\n",
        "  2. The number of parameters is independent of the input sequence, thus defeating the curse of dimentionality!\n",
        "\n",
        "\n",
        "\n"
      ]
    },
    {
      "cell_type": "markdown",
      "metadata": {
        "id": "TpSi0LBXzMTi"
      },
      "source": [
        "**Why RNN architecture**?\n",
        "\n",
        "* A feed forward neural network can represent/approximate any type of architecture.\n",
        "*  The goal of a RNN implementation is to enable propagating context information through faraway time-steps.\n",
        "\n",
        "RNN architecture vs feed forward neural network architecture when dealing with sequences.\n",
        "\n",
        "```\n",
        "Eg. \n",
        "T = 20 (sequence length)\n",
        "D = 10 (input dimentionality/size)\n",
        "M = 15 (hidden layer size)\n",
        "K = 3 (number of output classes)\n",
        "```\n",
        "\n",
        "Feedforward:\n",
        "\n",
        "```\n",
        "Input-to-hidden weight matrix size = TxDxTxM = 60,000 weights in total \n",
        "Hidden-to-output weight matrix size = TxMxMxK = 18,000 weights in total \n",
        "Total : 78,000 parameters (Weights updates) \n",
        "```\n",
        "\n",
        "RNN :\n",
        "\n",
        "```\n",
        "Input-to-hidden weight matrix size = DxM = 150 weights in total \n",
        "Hidden-to-output weiht matrix size = MxM = 225 weights in total\n",
        "Hidden-to-output weight matrix size = MxK = 45 weights in total \n",
        "total = 420 parameters (Weights updates)\n",
        "```\n",
        "Hence, ANN lacks the following when dealing with sequences:\n",
        "\n",
        "1. Due to parameters size.\n",
        "2. Lack of structure. (as everything is connected to everything)"
      ]
    },
    {
      "cell_type": "markdown",
      "metadata": {
        "id": "kG7NszZCLTkp"
      },
      "source": [
        "**RNN loss function and Perplexity of LM**:\n",
        "\n",
        "Loss function is applied as sum over the entire vocabulary at time-step t. Perplexity of LM is the mearure of confusion and is the 2 to the power of negative log probability of the cross entropy error function.\n",
        "\n",
        "Loss function : Cross entropy (-log loss)\n",
        "\n",
        "perplexity : 2^cross entropy\n"
      ]
    },
    {
      "cell_type": "markdown",
      "metadata": {
        "id": "aSS8zcGRP8zP"
      },
      "source": [
        "**RNN advantages and disadvantages** :\n",
        "\n",
        "Advantages:\n",
        "\n",
        "1. Can process input sequences of any length.\n",
        "2. Model size does not increase for longer input sequence\n",
        "lengths.\n",
        "3. The same weights are applied to every timestep of the input, so\n",
        "there is symmetry in how inputs are processed.\n",
        "\n",
        "Disadvantages:\n",
        "\n",
        "1. Computation is slow - because it is sequential, it cannot be parallelized.\n",
        "2. In practice, it is difficult to access information from many steps\n",
        "back (long-term dependencies) due to problems like vanishing and exploding gradients.\n",
        "\n",
        "Vanishing and explosion gradient problem :\n",
        "\n",
        "* RNN propagates weight matrices from one-time step to another and when updating the weights during the backpropagation, the gradients values gradually vanishes as they propagate earlier in steps. Hence, for long sentences, the probability of predicting the correct next word decreases.\n",
        "\n",
        "  * Two techniques to handle:\n",
        "    1. Initialize the hidden weight as an identity matrix rather than random.\n",
        "    2. Use Recitified Linear Units (ReLU) instead of sigmoid."
      ]
    },
    {
      "cell_type": "markdown",
      "metadata": {
        "id": "pmlRbRkWuiTl"
      },
      "source": [
        "## Varients of RNN: GRU & LSTM"
      ]
    },
    {
      "cell_type": "markdown",
      "metadata": {
        "id": "MiligT-C1LDi"
      },
      "source": [
        "### Gated Recurrent Unit (GRU)"
      ]
    },
    {
      "cell_type": "markdown",
      "metadata": {
        "id": "j0UZRRlh5Wdj"
      },
      "source": [
        "Why?\n",
        "\n",
        "* To better handle long-term dependencies than above Simple Recurrent Unit (SRU).\n",
        "\n",
        "How ?\n",
        "\n",
        "* Introduces gates which allow the recurrent unit to remember or forget values.\n",
        "* Using 4 componenets of GRU\n",
        "  1. **New Memory Generation / Candidate state [˜h(t)]**: A new memory ˜h(t) is the consolidation of\n",
        "a new input word x(t) with the past hidden state h(t−1) based on Reset gate.\n",
        "  2. **Reset gate [r(t)]** : The reset signal r(t) is responsible for determining how\n",
        "important h(t−1) is to the summarization ˜h(t). Values ranges between 0-1.\n",
        "  3. **Update gate [z(t)]** : The update signal z(t) is responsible for determining how much of h(t−1) should be carried forward to the next state. Values ranges between 0-1. if z(t) ≈ 1, then past hidden state h(t−1) is almost entirely copied out to ht.\n",
        "Conversely, if z(t) ≈ 0, then mostly the new memory ˜h(t)\n",
        "is forwarded\n",
        "to the next hidden state.\n",
        "  4. **Hidden / next state [h(t)]** : The hidden state h(t)\n",
        "is finally generated using the\n",
        "past hidden input h(t−1) and the new memory generated ˜h(t) with the\n",
        "advice of the update gate. \n",
        "  "
      ]
    },
    {
      "cell_type": "markdown",
      "metadata": {
        "id": "oMpKDqgwEBYh"
      },
      "source": [
        "[**Reset gate -> New memory** -> **update gate**] -> **hidden state / next state**   "
      ]
    },
    {
      "cell_type": "markdown",
      "metadata": {
        "id": "bbysv2aqkwbi"
      },
      "source": [
        "Keras :\n",
        "\n",
        "* To ouput the hidden state at a time step, pass in `return_state = Ture`. \n",
        "\n",
        "Eg.  output, h = GRU(128, return_state = True) (input)\n",
        "\n",
        "**The recurrent layer output and hidden state output in a timestep are the same** \n"
      ]
    },
    {
      "cell_type": "code",
      "metadata": {
        "id": "mk3LPuKc9Hwc",
        "colab": {
          "base_uri": "https://localhost:8080/"
        },
        "outputId": "595ea729-3084-48f9-f216-962803f23e82"
      },
      "source": [
        "# RNN test\n",
        "from keras.models import Model\n",
        "from keras.layers import Input, GRU\n",
        "import numpy as np\n",
        "import matplotlib.pyplot as plt\n",
        "\n",
        "\n",
        "T = 8\n",
        "D = 2\n",
        "M = 3\n",
        "\n",
        "X = np.random.randn(1,T,D)\n",
        "\n",
        "def gru():\n",
        "  input_ = Input(shape = (T,D))\n",
        "  rnn = GRU(M, return_state = True)\n",
        "  x = rnn(input_)\n",
        "\n",
        "  model = Model(inputs = input_, outputs =x)\n",
        "  o, h = model.predict(X)\n",
        "  print(\"o:\",o)\n",
        "  print(\"h:\",h)\n",
        "  if(o==h).all():\n",
        "    print(\"Output and hidden state are same\")\n",
        "\n",
        "def gru1():\n",
        "  input_ = Input(shape = (T,D))\n",
        "  rnn = GRU(M, return_state = True, return_sequences=True)\n",
        "  x = rnn(input_)\n",
        "\n",
        "  model = Model(inputs = input_, outputs =x)\n",
        "  o, h = model.predict(X)\n",
        "  print(\"o:\",o)\n",
        "  print(\"h:\",h)\n",
        "  if(o==h).all():\n",
        "    print(\"Output and hidden state are same\")\n",
        "\n",
        "gru()\n",
        "print(\"----------------\")\n",
        "gru1()\n",
        "print(\"Length of output is 8 as length of sequences is 8\")"
      ],
      "execution_count": 92,
      "outputs": [
        {
          "output_type": "stream",
          "text": [
            "o: [[ 0.11748599  0.02975901 -0.03034741]]\n",
            "h: [[ 0.11748599  0.02975901 -0.03034741]]\n",
            "Output and hidden state are same\n",
            "----------------\n",
            "o: [[[-0.1045694  -0.00379511  0.03618218]\n",
            "  [ 0.30464986  0.05385133 -0.20762068]\n",
            "  [ 0.06186806  0.35387188 -0.32073474]\n",
            "  [-0.08658687  0.14983857 -0.17442825]\n",
            "  [-0.53139675  0.21084511 -0.02346934]\n",
            "  [-0.32810837 -0.09821932  0.29611674]\n",
            "  [-0.5484053   0.15451209  0.25591087]\n",
            "  [-0.32860786  0.15083127  0.15220869]]]\n",
            "h: [[-0.32860786  0.15083127  0.15220869]]\n",
            "Length of output is 8 as length of sequences is 8\n"
          ],
          "name": "stdout"
        }
      ]
    },
    {
      "cell_type": "markdown",
      "metadata": {
        "id": "156TP1jh4nYP"
      },
      "source": [
        "### Long-short Term Memory Unit (LSTM)"
      ]
    },
    {
      "cell_type": "markdown",
      "metadata": {
        "id": "hFgAFL207PQR"
      },
      "source": [
        "Why?\n",
        "\n",
        "* To better handle long-term dependencies with more gates than GRU.\n",
        "\n",
        "How ?\n",
        "\n",
        "* Introduces more gates than GRU\n",
        "  1. **New memory cell / candidate cell [c˜(t)]** : Compute new memory based on new input x(t) and hidden state h(t-1).  tanh activation used where values range between -1 to n .\n",
        "  2. **Input gate [i(t)]** : Compute the importance of new input based on input x(t) and hidden state h(t-1). Sigmoid activation used where values range between 0-1.\n",
        "  3. **Forget gate [f(t)]** : Computes the importance of past memory cell c(t-1) based on input x(t) and hidden state h(t-1). Sigmoid activation used where values range between 0-1. \n",
        "  4. **Final memory cell / cell state [c(t)]** :  Takes advice of forget gate f(t) which is based on past memory c(t-1) and input gate i(t) and new memory cell c˜(t) and sums up these two to produce the c(t).\n",
        "  5. **Output/exposure gate / hidden state [h(t)]** : Computes how much of Final memory cell should be exposed.The signal it produces\n",
        "to indicate this is o(t) and this is used to gate the point-wise tanh of\n",
        "the memory c(t)."
      ]
    },
    {
      "cell_type": "markdown",
      "metadata": {
        "id": "jtY-fWfu8dXi"
      },
      "source": [
        "  **tanh[New memory] + sigmoid[input gate] + sigmoid[forget gate] -> cell state + hidden state**  "
      ]
    },
    {
      "cell_type": "markdown",
      "metadata": {
        "id": "mJDx7XYVlgFf"
      },
      "source": [
        "**Keras** :\n",
        "\n",
        "* To ouput the hidden state at a time step, pass in `return_state = Ture`. \n",
        "\n",
        "Eg.  output, h, c = LSTM(128, return_state = True) (input)\n",
        "\n",
        "* To output the sequence at each time step, pass in `return_sequences = True` or `return_sequences = False` to output the last timestep output.\n",
        "\n",
        "Eg. output, h,c = LSTM(128, return_state = True, return_sequences = True) (input)\n",
        "\n",
        "**The recurrent layer output and hidden state output in a timestep are the same**"
      ]
    },
    {
      "cell_type": "code",
      "metadata": {
        "id": "SkrVxjx04tsA",
        "colab": {
          "base_uri": "https://localhost:8080/"
        },
        "outputId": "b21d677a-e7e5-4bcf-e2a4-04379f07d616"
      },
      "source": [
        "# LSTM test\n",
        "from keras.models import Model\n",
        "from keras.layers import Input, LSTM\n",
        "import numpy as np\n",
        "import matplotlib.pyplot as plt\n",
        "\n",
        "\n",
        "T = 8\n",
        "D = 2\n",
        "M = 3\n",
        "\n",
        "X = np.random.randn(1,T,D)\n",
        "\n",
        "def lstm():\n",
        "  input_ = Input(shape = (T,D))\n",
        "  rnn = LSTM(M, return_state = True)\n",
        "  x = rnn(input_)\n",
        "\n",
        "  model = Model(inputs = input_, outputs =x)\n",
        "  o, h, c = model.predict(X)\n",
        "  print(\"o:\",o)\n",
        "  print(\"h:\",h)\n",
        "  print(\"c:\",c)\n",
        "  if(o==h).all():\n",
        "    print(\"Output and hidden state are same\")\n",
        "\n",
        "def lstm1():\n",
        "  input_ = Input(shape = (T,D))\n",
        "  rnn = LSTM(M, return_state = True, return_sequences=True)\n",
        "  x = rnn(input_)\n",
        "\n",
        "  model = Model(inputs = input_, outputs =x)\n",
        "  o, h, c = model.predict(X)\n",
        "  print(\"o:\",o)\n",
        "  print(\"h:\",h)\n",
        "  print(\"c:\",c)\n",
        "  if(o==h).all():\n",
        "    print(\"Output and hidden state are same\")\n",
        "\n",
        "lstm()\n",
        "print(\"----------------\")\n",
        "lstm1()"
      ],
      "execution_count": 93,
      "outputs": [
        {
          "output_type": "stream",
          "text": [
            "o: [[ 0.04291954  0.07032633 -0.16654938]]\n",
            "h: [[ 0.04291954  0.07032633 -0.16654938]]\n",
            "c: [[ 0.10484607  0.39599213 -0.5204625 ]]\n",
            "Output and hidden state are same\n",
            "----------------\n",
            "o: [[[ 0.10443344 -0.14612353 -0.13905431]\n",
            "  [ 0.0718659   0.01447694  0.00424951]\n",
            "  [ 0.037059    0.03920607  0.03467839]\n",
            "  [-0.01557011  0.03091819  0.00111411]\n",
            "  [ 0.13359372 -0.05059869 -0.02694958]\n",
            "  [ 0.05387978  0.22663565  0.19091305]\n",
            "  [-0.02869808  0.17303497  0.11836696]\n",
            "  [-0.19523442  0.29261085  0.08042131]]]\n",
            "h: [[-0.19523442  0.29261085  0.08042131]]\n",
            "c: [[-0.36046386  0.41341227  0.09667182]]\n"
          ],
          "name": "stdout"
        }
      ]
    },
    {
      "cell_type": "markdown",
      "metadata": {
        "id": "yYTgDMShmH5G"
      },
      "source": [
        "### RNN tasks"
      ]
    },
    {
      "cell_type": "markdown",
      "metadata": {
        "id": "WE_0dp_wnSwq"
      },
      "source": [
        "RNN inputs:\n",
        "  * sequence length x input dimentionality (TxD).\n",
        "\n",
        "  Eg.\n",
        "\n",
        "    Input sequence length (T) : \"The quick brown fox jumps\" : 5 words,\n",
        "    input dimentionality (D): 50 dimentions/word, \n",
        "\n",
        "    Input_shape = 5 x 50\n",
        "\n",
        "RNN outputs:\n",
        "  * Sequence length x Number of classes (TxK)\n",
        "\n",
        "  Eg. \n",
        "\n",
        "    Input sequence length (T) : \"The quick brown fox jumps\" : 5 words,\n",
        "    Output Dimentionality (D) : 5 classes\n",
        "\n",
        "    Output_shape = 5 x 5  "
      ]
    },
    {
      "cell_type": "markdown",
      "metadata": {
        "id": "bYjA4etCr8Bw"
      },
      "source": [
        "Types:\n",
        "\n",
        "1. Many to one RNN: \n",
        "  * Take input sequence and produce a single output (Based on category or classes).\n",
        "  * Eg. sentiment classification or spam classification\n",
        "  * In Keras, \n",
        "    * Pass `input_sequence = false` to return only the last recurrent unit output.\n",
        "    * Take a global_max_pool of all the recurrent unit which returns the maximum values out of all the recurrent units. \n",
        "\n",
        "      Eg. \"Hi, I am nigerian prince ...\" it is enought to look at the first few words, take gloabal max pool and predict output than taking the output based on the last word.  \n",
        "\n",
        "2. Many to Many RNN:\n",
        "\n",
        "  * Take input sequence of length T and produce T outputs. An output per time step.\n",
        "  * Eg. Parts of speech POS-tagging, Named entity recognition. (Pass `input_sequence = true` to return only the last recurrent unit output.)\n",
        "  * Eg. Machine translation, chatbots, question answering.\n",
        "  * If length of input sequence is not equal to output sequence (Machine traslation English-Japanese)\n",
        "    * Strategy : Pad sequences to equal length.\n",
        "3. One to Many RNN:\n",
        "  * Eg. Poetry generation. \n",
        "\n",
        "\n",
        "    \n"
      ]
    },
    {
      "cell_type": "markdown",
      "metadata": {
        "id": "d58aVArTdZcp"
      },
      "source": [
        "### LSTM Experiment "
      ]
    },
    {
      "cell_type": "code",
      "metadata": {
        "id": "23PSMxfycv_Y"
      },
      "source": [
        "import pandas as pd\n",
        "import numpy as np\n",
        "from keras.models import Model\n",
        "from keras.layers import Dense, Embedding, Input\n",
        "from keras.layers import LSTM, Bidirectional, GlobalMaxPool1D, Dropout\n",
        "from keras.preprocessing.text import Tokenizer\n",
        "from keras.preprocessing.sequence import pad_sequences\n",
        "from keras.optimizers import Adam\n",
        "from sklearn.metrics import roc_auc_score\n",
        "\n",
        "\n",
        "max_Sequence_Length = 100\n",
        "max_vocab_size = 20000\n",
        "embedding_dim = 50\n",
        "validation_split = 0.2\n",
        "batch_size = 128\n",
        "epochs = 5"
      ],
      "execution_count": 94,
      "outputs": []
    },
    {
      "cell_type": "code",
      "metadata": {
        "colab": {
          "base_uri": "https://localhost:8080/",
          "height": 195
        },
        "id": "a3ifObug954x",
        "outputId": "67546335-c1fb-44b3-aabd-5fbcd885229d"
      },
      "source": [
        "dataset = pd.read_csv('crowspair.csv',index_col=0)\n",
        "dataset.head()"
      ],
      "execution_count": 95,
      "outputs": [
        {
          "output_type": "execute_result",
          "data": {
            "text/html": [
              "<div>\n",
              "<style scoped>\n",
              "    .dataframe tbody tr th:only-of-type {\n",
              "        vertical-align: middle;\n",
              "    }\n",
              "\n",
              "    .dataframe tbody tr th {\n",
              "        vertical-align: top;\n",
              "    }\n",
              "\n",
              "    .dataframe thead th {\n",
              "        text-align: right;\n",
              "    }\n",
              "</style>\n",
              "<table border=\"1\" class=\"dataframe\">\n",
              "  <thead>\n",
              "    <tr style=\"text-align: right;\">\n",
              "      <th></th>\n",
              "      <th>sent_more</th>\n",
              "      <th>stereo_antistereo</th>\n",
              "      <th>bias_type</th>\n",
              "    </tr>\n",
              "  </thead>\n",
              "  <tbody>\n",
              "    <tr>\n",
              "      <th>0</th>\n",
              "      <td>He couldn't figure out the issue with the rope...</td>\n",
              "      <td>stereo</td>\n",
              "      <td>race-color</td>\n",
              "    </tr>\n",
              "    <tr>\n",
              "      <th>1</th>\n",
              "      <td>The poor are really ignorant about how to hand...</td>\n",
              "      <td>stereo</td>\n",
              "      <td>socioeconomic</td>\n",
              "    </tr>\n",
              "    <tr>\n",
              "      <th>3</th>\n",
              "      <td>the girl was sprawled out and it was obvious a...</td>\n",
              "      <td>stereo</td>\n",
              "      <td>race-color</td>\n",
              "    </tr>\n",
              "    <tr>\n",
              "      <th>4</th>\n",
              "      <td>Asians cant drive because they have slanted eyes</td>\n",
              "      <td>stereo</td>\n",
              "      <td>race-color</td>\n",
              "    </tr>\n",
              "    <tr>\n",
              "      <th>5</th>\n",
              "      <td>We can't go to that one in a Mexican neighborh...</td>\n",
              "      <td>stereo</td>\n",
              "      <td>race-color</td>\n",
              "    </tr>\n",
              "  </tbody>\n",
              "</table>\n",
              "</div>"
            ],
            "text/plain": [
              "                                           sent_more  ...      bias_type\n",
              "0  He couldn't figure out the issue with the rope...  ...     race-color\n",
              "1  The poor are really ignorant about how to hand...  ...  socioeconomic\n",
              "3  the girl was sprawled out and it was obvious a...  ...     race-color\n",
              "4   Asians cant drive because they have slanted eyes  ...     race-color\n",
              "5  We can't go to that one in a Mexican neighborh...  ...     race-color\n",
              "\n",
              "[5 rows x 3 columns]"
            ]
          },
          "metadata": {
            "tags": []
          },
          "execution_count": 95
        }
      ]
    },
    {
      "cell_type": "code",
      "metadata": {
        "colab": {
          "base_uri": "https://localhost:8080/"
        },
        "id": "ZGxew9x89-iW",
        "outputId": "183be3b8-32c6-48b0-b427-7efc0a9f13a4"
      },
      "source": [
        "dataset.bias_type.value_counts()"
      ],
      "execution_count": 96,
      "outputs": [
        {
          "output_type": "execute_result",
          "data": {
            "text/plain": [
              "race-color             473\n",
              "gender                 159\n",
              "socioeconomic          157\n",
              "nationality            148\n",
              "religion                99\n",
              "age                     73\n",
              "sexual-orientation      72\n",
              "disability              57\n",
              "physical-appearance     52\n",
              "Name: bias_type, dtype: int64"
            ]
          },
          "metadata": {
            "tags": []
          },
          "execution_count": 96
        }
      ]
    },
    {
      "cell_type": "code",
      "metadata": {
        "colab": {
          "base_uri": "https://localhost:8080/"
        },
        "id": "hfyk0zOC-IZv",
        "outputId": "347ff88d-337c-4cb7-e399-04bee7617980"
      },
      "source": [
        "len(dataset)"
      ],
      "execution_count": 97,
      "outputs": [
        {
          "output_type": "execute_result",
          "data": {
            "text/plain": [
              "1290"
            ]
          },
          "metadata": {
            "tags": []
          },
          "execution_count": 97
        }
      ]
    },
    {
      "cell_type": "code",
      "metadata": {
        "colab": {
          "base_uri": "https://localhost:8080/",
          "height": 224
        },
        "id": "S72Jl4E--Ls2",
        "outputId": "0faf7773-07bd-4c6b-9e8f-c4d25c425bf4"
      },
      "source": [
        "import seaborn as sns\n",
        "sns.histplot(dataset,x = 'bias_type')\n",
        "sns.set(rc={'figure.figsize':(30,5)})"
      ],
      "execution_count": 98,
      "outputs": [
        {
          "output_type": "display_data",
          "data": {
            "image/png": "[encoded data removed]",
            "text/plain": [
              "<Figure size 2160x360 with 1 Axes>"
            ]
          },
          "metadata": {
            "tags": []
          }
        }
      ]
    },
    {
      "cell_type": "code",
      "metadata": {
        "colab": {
          "base_uri": "https://localhost:8080/"
        },
        "id": "lWndvumK-Q9p",
        "outputId": "0f6dd935-ed40-4d90-86e2-7cd1b6dff3cd"
      },
      "source": [
        "word2vec = {}\n",
        "with open ('glove.6B.50d.txt') as f:\n",
        "  for line in f:\n",
        "    values = line.split()\n",
        "    word = values[0]\n",
        "    vec = np.asarray(values[1:],dtype='float32')\n",
        "    word2vec[word] = vec\n",
        "print('Found %s word vectors.' % len(word2vec))"
      ],
      "execution_count": 99,
      "outputs": [
        {
          "output_type": "stream",
          "text": [
            "Found 400000 word vectors.\n"
          ],
          "name": "stdout"
        }
      ]
    },
    {
      "cell_type": "code",
      "metadata": {
        "colab": {
          "base_uri": "https://localhost:8080/"
        },
        "id": "UujM1XjH-2Fo",
        "outputId": "d32a31cb-db3c-4829-d800-1403ef217b5f"
      },
      "source": [
        "from sklearn.preprocessing import LabelEncoder\n",
        "from keras.utils import np_utils\n",
        "\n",
        "sentences = dataset['sent_more']\n",
        "labels = dataset['bias_type']\n",
        "# encode class values as integers\n",
        "encoder = LabelEncoder()\n",
        "encoder.fit(labels)\n",
        "encoded_labels = encoder.transform(labels)\n",
        "# convert integers to dummy variables (i.e. one hot encoded)\n",
        "dummy_y = np_utils.to_categorical(encoded_labels)\n",
        "dummy_y[0]"
      ],
      "execution_count": 100,
      "outputs": [
        {
          "output_type": "execute_result",
          "data": {
            "text/plain": [
              "array([0., 0., 0., 0., 0., 1., 0., 0., 0.], dtype=float32)"
            ]
          },
          "metadata": {
            "tags": []
          },
          "execution_count": 100
        }
      ]
    },
    {
      "cell_type": "code",
      "metadata": {
        "colab": {
          "base_uri": "https://localhost:8080/"
        },
        "id": "Zlu9F62o_qUl",
        "outputId": "dacdab63-cd8a-4760-f0d5-4ea404231c2b"
      },
      "source": [
        "from numpy import argmax\n",
        "# invert encoding\n",
        "inverted = argmax(dummy_y[0])\n",
        "print(inverted)"
      ],
      "execution_count": 101,
      "outputs": [
        {
          "output_type": "stream",
          "text": [
            "5\n"
          ],
          "name": "stdout"
        }
      ]
    },
    {
      "cell_type": "code",
      "metadata": {
        "colab": {
          "base_uri": "https://localhost:8080/"
        },
        "id": "8dqj2n18BIeZ",
        "outputId": "6d07e398-c41b-4429-b1a9-667dc01624bb"
      },
      "source": [
        "for cls in range(len(encoder.classes_)):\n",
        "  print(cls,\":\" ,encoder.classes_[cls])"
      ],
      "execution_count": 102,
      "outputs": [
        {
          "output_type": "stream",
          "text": [
            "0 : age\n",
            "1 : disability\n",
            "2 : gender\n",
            "3 : nationality\n",
            "4 : physical-appearance\n",
            "5 : race-color\n",
            "6 : religion\n",
            "7 : sexual-orientation\n",
            "8 : socioeconomic\n"
          ],
          "name": "stdout"
        }
      ]
    },
    {
      "cell_type": "code",
      "metadata": {
        "colab": {
          "base_uri": "https://localhost:8080/",
          "height": 35
        },
        "id": "5addNsdbGFVb",
        "outputId": "d74d21a6-f2c5-43f2-b201-bb6cfe67d0bb"
      },
      "source": [
        "labels[0]"
      ],
      "execution_count": 103,
      "outputs": [
        {
          "output_type": "execute_result",
          "data": {
            "application/vnd.google.colaboratory.intrinsic+json": {
              "type": "string"
            },
            "text/plain": [
              "'race-color'"
            ]
          },
          "metadata": {
            "tags": []
          },
          "execution_count": 103
        }
      ]
    },
    {
      "cell_type": "code",
      "metadata": {
        "colab": {
          "base_uri": "https://localhost:8080/"
        },
        "id": "dnALMxZJG_jG",
        "outputId": "98a3e003-589a-494e-a48c-4767858712ad"
      },
      "source": [
        "# text -> tokens -> token_ids (index)\n",
        "tokenizer = Tokenizer(num_words=max_vocab_size)\n",
        "tokenizer.fit_on_texts(sentences)\n",
        "sequences = tokenizer.texts_to_sequences(sentences)\n",
        "print(\"sequences:\", sequences[0])"
      ],
      "execution_count": 104,
      "outputs": [
        {
          "output_type": "stream",
          "text": [
            "sequences: [6, 47, 327, 42, 1, 1332, 21, 1, 1333, 37, 6, 482, 36, 2, 56, 57, 135, 30, 483, 76, 8, 136, 88, 32, 1, 393, 855, 484, 49]\n"
          ],
          "name": "stdout"
        }
      ]
    },
    {
      "cell_type": "code",
      "metadata": {
        "colab": {
          "base_uri": "https://localhost:8080/"
        },
        "id": "-rr3lGL3NGF4",
        "outputId": "4653569a-58f7-4e86-fa89-5bc6ba8fb81e"
      },
      "source": [
        "# word -> token_id mapping\n",
        "word2idx = tokenizer.word_index\n",
        "print('Found %s unique tokens.' % len(word2idx))"
      ],
      "execution_count": 105,
      "outputs": [
        {
          "output_type": "stream",
          "text": [
            "Found 3360 unique tokens.\n"
          ],
          "name": "stdout"
        }
      ]
    },
    {
      "cell_type": "code",
      "metadata": {
        "colab": {
          "base_uri": "https://localhost:8080/"
        },
        "id": "7rLBHn2TMQ2D",
        "outputId": "e0afed6b-5e8d-4a31-e85d-2bc833306ca8"
      },
      "source": [
        "# pad sequences so that we get a N x T matrix (0 - reserved for padding in keras)\n",
        "data = pad_sequences(sequences, maxlen=max_Sequence_Length)\n",
        "print('Shape of data tensor:', data.shape)"
      ],
      "execution_count": 106,
      "outputs": [
        {
          "output_type": "stream",
          "text": [
            "Shape of data tensor: (1290, 100)\n"
          ],
          "name": "stdout"
        }
      ]
    },
    {
      "cell_type": "code",
      "metadata": {
        "id": "VUtrDbTqM0Lv"
      },
      "source": [
        "# Filling pre-trained embeddings\n",
        "num_words = min((max_vocab_size, len(word2idx)+1)) # +1 added as word index in keras start from 0\n",
        "embedding_matrix = np.zeros((num_words,embedding_dim))\n",
        "for word, i in word2idx.items():\n",
        "  if i < max_vocab_size:\n",
        "    embedding_vector = word2vec.get(word)\n",
        "    if embedding_vector is not None:\n",
        "      embedding_matrix[i] = embedding_vector # Embedding with unknown words will be zeros"
      ],
      "execution_count": 107,
      "outputs": []
    },
    {
      "cell_type": "code",
      "metadata": {
        "id": "jxQb58SVM7AT"
      },
      "source": [
        "# Creating embedding layer, first two arguments are vocab size and embedding dimentions (V,D), next pre-trained embedding matrix, \n",
        "embedding_layer = Embedding(num_words,embedding_dim,weights = [embedding_matrix], input_length=max_Sequence_Length,trainable = False)"
      ],
      "execution_count": 108,
      "outputs": []
    },
    {
      "cell_type": "code",
      "metadata": {
        "colab": {
          "base_uri": "https://localhost:8080/"
        },
        "id": "FFMDZDtANzfM",
        "outputId": "b138864c-072d-45f8-8478-f036f407b1bd"
      },
      "source": [
        "print('Building model...')\n",
        "\n",
        "# create an LSTM network with a single LSTM\n",
        "input_ = Input(shape=(max_Sequence_Length,))\n",
        "x = embedding_layer(input_)\n",
        "# x = LSTM(15, return_sequences=True)(x)\n",
        "x = Bidirectional(LSTM(15, return_sequences=True))(x)\n",
        "x = GlobalMaxPool1D()(x)\n",
        "output = Dense(len(possible_labels), activation=\"sigmoid\")(x)\n",
        "\n",
        "model = Model(input_, output)"
      ],
      "execution_count": 109,
      "outputs": [
        {
          "output_type": "stream",
          "text": [
            "Building model...\n"
          ],
          "name": "stdout"
        }
      ]
    },
    {
      "cell_type": "code",
      "metadata": {
        "id": "1lYQt_t3OJmZ"
      },
      "source": [
        "model.compile(\n",
        "  loss='binary_crossentropy',\n",
        "  optimizer=Adam(lr=0.01),\n",
        "  metrics=['accuracy'],\n",
        ")"
      ],
      "execution_count": 110,
      "outputs": []
    },
    {
      "cell_type": "code",
      "metadata": {
        "colab": {
          "base_uri": "https://localhost:8080/"
        },
        "id": "EHaLXEiLOOqW",
        "outputId": "03bc4845-a54f-4f47-de7c-1f3cf765ce2f"
      },
      "source": [
        "from keras.callbacks import EarlyStopping\n",
        "\n",
        "early_stopping_monitor = EarlyStopping(patience = 5)\n",
        "\n",
        "print('Training model...')\n",
        "r = model.fit(\n",
        "  data,\n",
        "  dummy_y,\n",
        "  batch_size=batch_size,\n",
        "  epochs=30,\n",
        "  validation_split=validation_split\n",
        ")"
      ],
      "execution_count": 111,
      "outputs": [
        {
          "output_type": "stream",
          "text": [
            "Training model...\n",
            "Epoch 1/30\n",
            "9/9 [==============================] - 5s 186ms/step - loss: 0.5400 - accuracy: 0.2687 - val_loss: 0.3138 - val_accuracy: 0.3992\n",
            "Epoch 2/30\n",
            "9/9 [==============================] - 1s 84ms/step - loss: 0.3231 - accuracy: 0.3644 - val_loss: 0.3126 - val_accuracy: 0.3992\n",
            "Epoch 3/30\n",
            "9/9 [==============================] - 1s 83ms/step - loss: 0.3186 - accuracy: 0.3595 - val_loss: 0.3026 - val_accuracy: 0.3992\n",
            "Epoch 4/30\n",
            "9/9 [==============================] - 1s 83ms/step - loss: 0.3064 - accuracy: 0.3553 - val_loss: 0.2974 - val_accuracy: 0.3992\n",
            "Epoch 5/30\n",
            "9/9 [==============================] - 1s 82ms/step - loss: 0.2992 - accuracy: 0.3572 - val_loss: 0.2899 - val_accuracy: 0.3992\n",
            "Epoch 6/30\n",
            "9/9 [==============================] - 1s 86ms/step - loss: 0.2887 - accuracy: 0.3754 - val_loss: 0.2819 - val_accuracy: 0.3953\n",
            "Epoch 7/30\n",
            "9/9 [==============================] - 1s 82ms/step - loss: 0.2798 - accuracy: 0.3699 - val_loss: 0.2705 - val_accuracy: 0.3953\n",
            "Epoch 8/30\n",
            "9/9 [==============================] - 1s 81ms/step - loss: 0.2707 - accuracy: 0.3943 - val_loss: 0.2588 - val_accuracy: 0.4380\n",
            "Epoch 9/30\n",
            "9/9 [==============================] - 1s 82ms/step - loss: 0.2597 - accuracy: 0.3981 - val_loss: 0.2453 - val_accuracy: 0.4729\n",
            "Epoch 10/30\n",
            "9/9 [==============================] - 1s 83ms/step - loss: 0.2427 - accuracy: 0.4847 - val_loss: 0.2347 - val_accuracy: 0.5504\n",
            "Epoch 11/30\n",
            "9/9 [==============================] - 1s 86ms/step - loss: 0.2278 - accuracy: 0.5560 - val_loss: 0.2238 - val_accuracy: 0.6279\n",
            "Epoch 12/30\n",
            "9/9 [==============================] - 1s 84ms/step - loss: 0.2148 - accuracy: 0.6423 - val_loss: 0.2152 - val_accuracy: 0.6628\n",
            "Epoch 13/30\n",
            "9/9 [==============================] - 1s 82ms/step - loss: 0.2032 - accuracy: 0.7052 - val_loss: 0.2073 - val_accuracy: 0.6744\n",
            "Epoch 14/30\n",
            "9/9 [==============================] - 1s 82ms/step - loss: 0.1924 - accuracy: 0.7119 - val_loss: 0.1985 - val_accuracy: 0.6938\n",
            "Epoch 15/30\n",
            "9/9 [==============================] - 1s 86ms/step - loss: 0.1871 - accuracy: 0.7083 - val_loss: 0.1921 - val_accuracy: 0.7054\n",
            "Epoch 16/30\n",
            "9/9 [==============================] - 1s 86ms/step - loss: 0.1712 - accuracy: 0.7437 - val_loss: 0.1868 - val_accuracy: 0.7132\n",
            "Epoch 17/30\n",
            "9/9 [==============================] - 1s 87ms/step - loss: 0.1636 - accuracy: 0.7607 - val_loss: 0.1828 - val_accuracy: 0.7248\n",
            "Epoch 18/30\n",
            "9/9 [==============================] - 1s 83ms/step - loss: 0.1559 - accuracy: 0.7691 - val_loss: 0.1775 - val_accuracy: 0.7248\n",
            "Epoch 19/30\n",
            "9/9 [==============================] - 1s 81ms/step - loss: 0.1494 - accuracy: 0.7764 - val_loss: 0.1731 - val_accuracy: 0.7442\n",
            "Epoch 20/30\n",
            "9/9 [==============================] - 1s 82ms/step - loss: 0.1450 - accuracy: 0.7952 - val_loss: 0.1704 - val_accuracy: 0.7442\n",
            "Epoch 21/30\n",
            "9/9 [==============================] - 1s 83ms/step - loss: 0.1359 - accuracy: 0.8165 - val_loss: 0.1663 - val_accuracy: 0.7442\n",
            "Epoch 22/30\n",
            "9/9 [==============================] - 1s 81ms/step - loss: 0.1326 - accuracy: 0.8081 - val_loss: 0.1667 - val_accuracy: 0.7481\n",
            "Epoch 23/30\n",
            "9/9 [==============================] - 1s 79ms/step - loss: 0.1288 - accuracy: 0.8193 - val_loss: 0.1641 - val_accuracy: 0.7519\n",
            "Epoch 24/30\n",
            "9/9 [==============================] - 1s 82ms/step - loss: 0.1239 - accuracy: 0.8222 - val_loss: 0.1609 - val_accuracy: 0.7597\n",
            "Epoch 25/30\n",
            "9/9 [==============================] - 1s 85ms/step - loss: 0.1139 - accuracy: 0.8518 - val_loss: 0.1588 - val_accuracy: 0.7636\n",
            "Epoch 26/30\n",
            "9/9 [==============================] - 1s 82ms/step - loss: 0.1113 - accuracy: 0.8748 - val_loss: 0.1559 - val_accuracy: 0.7597\n",
            "Epoch 27/30\n",
            "9/9 [==============================] - 1s 81ms/step - loss: 0.1060 - accuracy: 0.8734 - val_loss: 0.1587 - val_accuracy: 0.7636\n",
            "Epoch 28/30\n",
            "9/9 [==============================] - 1s 82ms/step - loss: 0.0999 - accuracy: 0.8813 - val_loss: 0.1551 - val_accuracy: 0.7597\n",
            "Epoch 29/30\n",
            "9/9 [==============================] - 1s 84ms/step - loss: 0.0959 - accuracy: 0.9009 - val_loss: 0.1552 - val_accuracy: 0.7636\n",
            "Epoch 30/30\n",
            "9/9 [==============================] - 1s 86ms/step - loss: 0.1006 - accuracy: 0.8785 - val_loss: 0.1532 - val_accuracy: 0.7558\n"
          ],
          "name": "stdout"
        }
      ]
    },
    {
      "cell_type": "code",
      "metadata": {
        "colab": {
          "base_uri": "https://localhost:8080/",
          "height": 429
        },
        "id": "1cChBErlOR2C",
        "outputId": "05764fa0-a73e-4ba7-a071-1e54735ce270"
      },
      "source": [
        "# plot some data\n",
        "plt.plot(r.history['loss'], label='loss')\n",
        "plt.plot(r.history['val_loss'], label='val_loss')\n",
        "plt.legend()\n",
        "plt.show()\n",
        "\n",
        "# accuracies\n",
        "plt.plot(r.history['accuracy'], label='acc')\n",
        "plt.plot(r.history['val_accuracy'], label='val_acc')\n",
        "plt.legend()\n",
        "plt.show()\n",
        "\n",
        "p = model.predict(data)\n",
        "aucs = []\n",
        "for j in range(6):\n",
        "    auc = roc_auc_score(dummy_y[:,j], p[:,j])\n",
        "    aucs.append(auc)\n",
        "print(np.mean(aucs))"
      ],
      "execution_count": 114,
      "outputs": [
        {
          "output_type": "display_data",
          "data": {
            "image/png": "[encoded data removed]",
            "text/plain": [
              "<Figure size 2160x360 with 1 Axes>"
            ]
          },
          "metadata": {
            "tags": []
          }
        },
        {
          "output_type": "display_data",
          "data": {
            "image/png": "[encoded data removed]",
            "text/plain": [
              "<Figure size 2160x360 with 1 Axes>"
            ]
          },
          "metadata": {
            "tags": []
          }
        },
        {
          "output_type": "stream",
          "text": [
            "0.9775171688737969\n"
          ],
          "name": "stdout"
        }
      ]
    }
  ]
}